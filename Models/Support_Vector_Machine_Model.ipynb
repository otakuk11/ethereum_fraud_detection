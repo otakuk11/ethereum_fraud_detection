{
 "cells": [
  {
   "cell_type": "code",
   "execution_count": 13,
   "metadata": {},
   "outputs": [],
   "source": [
    "import numpy as np\n",
    "import pandas as pd\n",
    "from sklearn.model_selection import train_test_split, GridSearchCV, KFold\n",
    "from sklearn.svm import SVC\n",
    "from sklearn.preprocessing import StandardScaler, MinMaxScaler\n",
    "from sklearn.metrics import accuracy_score, f1_score\n"
   ]
  },
  {
   "cell_type": "code",
   "execution_count": 2,
   "metadata": {},
   "outputs": [
    {
     "data": {
      "text/html": [
       "<div>\n",
       "<style scoped>\n",
       "    .dataframe tbody tr th:only-of-type {\n",
       "        vertical-align: middle;\n",
       "    }\n",
       "\n",
       "    .dataframe tbody tr th {\n",
       "        vertical-align: top;\n",
       "    }\n",
       "\n",
       "    .dataframe thead th {\n",
       "        text-align: right;\n",
       "    }\n",
       "</style>\n",
       "<table border=\"1\" class=\"dataframe\">\n",
       "  <thead>\n",
       "    <tr style=\"text-align: right;\">\n",
       "      <th></th>\n",
       "      <th>Address</th>\n",
       "      <th>FLAG</th>\n",
       "      <th>Avg min between sent tnx</th>\n",
       "      <th>Avg min between received tnx</th>\n",
       "      <th>Time Diff between first and last (Mins)</th>\n",
       "      <th>Unique Received From Addresses</th>\n",
       "      <th>min value received</th>\n",
       "      <th>max value received</th>\n",
       "      <th>avg val received</th>\n",
       "      <th>min val sent</th>\n",
       "      <th>avg val sent</th>\n",
       "      <th>total transactions (including tnx to create contract</th>\n",
       "      <th>total ether received</th>\n",
       "      <th>total ether balance</th>\n",
       "    </tr>\n",
       "  </thead>\n",
       "  <tbody>\n",
       "    <tr>\n",
       "      <th>0</th>\n",
       "      <td>0x87d884aaa6ff9e9b6014631b0abae80b53953fb8</td>\n",
       "      <td>1</td>\n",
       "      <td>5151.68</td>\n",
       "      <td>15159.08</td>\n",
       "      <td>71235.62</td>\n",
       "      <td>1</td>\n",
       "      <td>0.010000</td>\n",
       "      <td>0.020000</td>\n",
       "      <td>0.013367</td>\n",
       "      <td>0.000000</td>\n",
       "      <td>0.000000</td>\n",
       "      <td>8</td>\n",
       "      <td>0.040100</td>\n",
       "      <td>0.040100</td>\n",
       "    </tr>\n",
       "    <tr>\n",
       "      <th>1</th>\n",
       "      <td>0xd42393df90d582bd8a5493171f0173e3a017d391</td>\n",
       "      <td>1</td>\n",
       "      <td>1179.02</td>\n",
       "      <td>1124.89</td>\n",
       "      <td>25126.45</td>\n",
       "      <td>13</td>\n",
       "      <td>0.000000</td>\n",
       "      <td>0.750000</td>\n",
       "      <td>0.176667</td>\n",
       "      <td>0.145000</td>\n",
       "      <td>0.419270</td>\n",
       "      <td>22</td>\n",
       "      <td>2.650000</td>\n",
       "      <td>-0.284889</td>\n",
       "    </tr>\n",
       "    <tr>\n",
       "      <th>2</th>\n",
       "      <td>0x3025c36d8a9620d3df89e9e9b1acbdfd639a6f37</td>\n",
       "      <td>1</td>\n",
       "      <td>361.73</td>\n",
       "      <td>0.00</td>\n",
       "      <td>723.47</td>\n",
       "      <td>1</td>\n",
       "      <td>4.999916</td>\n",
       "      <td>4.999916</td>\n",
       "      <td>4.999916</td>\n",
       "      <td>2.490000</td>\n",
       "      <td>2.499538</td>\n",
       "      <td>3</td>\n",
       "      <td>4.999916</td>\n",
       "      <td>0.000840</td>\n",
       "    </tr>\n",
       "    <tr>\n",
       "      <th>3</th>\n",
       "      <td>0x6309f709faad518fc158af4c14edfa7b06424770</td>\n",
       "      <td>1</td>\n",
       "      <td>0.00</td>\n",
       "      <td>0.00</td>\n",
       "      <td>0.00</td>\n",
       "      <td>0</td>\n",
       "      <td>0.000000</td>\n",
       "      <td>0.000000</td>\n",
       "      <td>0.000000</td>\n",
       "      <td>0.000000</td>\n",
       "      <td>0.000000</td>\n",
       "      <td>0</td>\n",
       "      <td>0.000000</td>\n",
       "      <td>0.000000</td>\n",
       "    </tr>\n",
       "    <tr>\n",
       "      <th>4</th>\n",
       "      <td>0x3d020954e30c3d40b7f0c533cf198bc10dd45a49</td>\n",
       "      <td>1</td>\n",
       "      <td>14280.60</td>\n",
       "      <td>1479.86</td>\n",
       "      <td>45357.57</td>\n",
       "      <td>21</td>\n",
       "      <td>0.035000</td>\n",
       "      <td>0.200000</td>\n",
       "      <td>0.099286</td>\n",
       "      <td>2.084658</td>\n",
       "      <td>2.084658</td>\n",
       "      <td>22</td>\n",
       "      <td>2.085000</td>\n",
       "      <td>0.000342</td>\n",
       "    </tr>\n",
       "  </tbody>\n",
       "</table>\n",
       "</div>"
      ],
      "text/plain": [
       "                                      Address  FLAG  Avg min between sent tnx  \\\n",
       "0  0x87d884aaa6ff9e9b6014631b0abae80b53953fb8     1                   5151.68   \n",
       "1  0xd42393df90d582bd8a5493171f0173e3a017d391     1                   1179.02   \n",
       "2  0x3025c36d8a9620d3df89e9e9b1acbdfd639a6f37     1                    361.73   \n",
       "3  0x6309f709faad518fc158af4c14edfa7b06424770     1                      0.00   \n",
       "4  0x3d020954e30c3d40b7f0c533cf198bc10dd45a49     1                  14280.60   \n",
       "\n",
       "   Avg min between received tnx  Time Diff between first and last (Mins)  \\\n",
       "0                      15159.08                                 71235.62   \n",
       "1                       1124.89                                 25126.45   \n",
       "2                          0.00                                   723.47   \n",
       "3                          0.00                                     0.00   \n",
       "4                       1479.86                                 45357.57   \n",
       "\n",
       "   Unique Received From Addresses  min value received  max value received   \\\n",
       "0                               1            0.010000             0.020000   \n",
       "1                              13            0.000000             0.750000   \n",
       "2                               1            4.999916             4.999916   \n",
       "3                               0            0.000000             0.000000   \n",
       "4                              21            0.035000             0.200000   \n",
       "\n",
       "   avg val received  min val sent  avg val sent  \\\n",
       "0          0.013367      0.000000      0.000000   \n",
       "1          0.176667      0.145000      0.419270   \n",
       "2          4.999916      2.490000      2.499538   \n",
       "3          0.000000      0.000000      0.000000   \n",
       "4          0.099286      2.084658      2.084658   \n",
       "\n",
       "   total transactions (including tnx to create contract  total ether received  \\\n",
       "0                                                  8                 0.040100   \n",
       "1                                                 22                 2.650000   \n",
       "2                                                  3                 4.999916   \n",
       "3                                                  0                 0.000000   \n",
       "4                                                 22                 2.085000   \n",
       "\n",
       "   total ether balance  \n",
       "0             0.040100  \n",
       "1            -0.284889  \n",
       "2             0.000840  \n",
       "3             0.000000  \n",
       "4             0.000342  "
      ]
     },
     "execution_count": 2,
     "metadata": {},
     "output_type": "execute_result"
    }
   ],
   "source": [
    "df = pd.read_csv('../Data/address_data_combined.csv')\n",
    "df.head()"
   ]
  },
  {
   "cell_type": "code",
   "execution_count": 3,
   "metadata": {},
   "outputs": [
    {
     "name": "stdout",
     "output_type": "stream",
     "text": [
      "(12397, 12)\n",
      "(12397,)\n"
     ]
    }
   ],
   "source": [
    "X = df.drop(columns=['Address','FLAG'])\n",
    "y = df['FLAG']\n",
    "print(X.shape)\n",
    "print(y.shape)"
   ]
  },
  {
   "cell_type": "code",
   "execution_count": 4,
   "metadata": {},
   "outputs": [
    {
     "name": "stdout",
     "output_type": "stream",
     "text": [
      "(8677, 12)\n",
      "(3720, 12)\n"
     ]
    }
   ],
   "source": [
    "X_train, X_test, y_train, y_test = train_test_split(X,y,random_state=42,test_size=0.3,stratify=y)\n",
    "\n",
    "print(X_train.shape)\n",
    "print(X_test.shape)"
   ]
  },
  {
   "cell_type": "code",
   "execution_count": 5,
   "metadata": {},
   "outputs": [
    {
     "data": {
      "text/plain": [
       "array([[False, False, False, ..., False, False, False],\n",
       "       [False, False, False, ..., False, False, False],\n",
       "       [False, False, False, ..., False, False, False],\n",
       "       ...,\n",
       "       [False, False, False, ..., False, False, False],\n",
       "       [False, False, False, ..., False, False, False],\n",
       "       [False, False, False, ..., False, False, False]])"
      ]
     },
     "execution_count": 5,
     "metadata": {},
     "output_type": "execute_result"
    }
   ],
   "source": [
    "import numpy as np\n",
    "\n",
    "columns = ['Avg min between sent tnx', 'Avg min between received tnx',\n",
    "       'Time Diff between first and last (Mins)',\n",
    "       'Unique Received From Addresses', 'min value received',\n",
    "       'max value received ', 'avg val received', 'min val sent',\n",
    "       'avg val sent', 'total transactions (including tnx to create contract',\n",
    "       'total ether received', 'total ether balance']\n",
    "    \n",
    "scaler = MinMaxScaler()\n",
    "\n",
    "# Log for Skewed Data\n",
    "for c in columns:\n",
    "  X_train[c] = X_train[c].apply(lambda x: np.log(x) if x > 0 else 0)\n",
    "  X_test[c] = X_test[c].apply(lambda x: np.log(x) if x > 0 else 0)\n",
    "\n",
    "# Scaling\n",
    "X_train = scaler.fit_transform(X_train)\n",
    "X_test = scaler.transform(X_test)\n",
    "\n",
    "np.isnan(X_train)"
   ]
  },
  {
   "cell_type": "code",
   "execution_count": 6,
   "metadata": {},
   "outputs": [
    {
     "name": "stdout",
     "output_type": "stream",
     "text": [
      "Fitting 5 folds for each of 16 candidates, totalling 80 fits\n",
      "[CV] END .......................................C=1, gamma=1; total time=   0.6s\n",
      "[CV] END .......................................C=1, gamma=1; total time=   0.5s\n",
      "[CV] END .......................................C=1, gamma=1; total time=   0.6s\n",
      "[CV] END .......................................C=1, gamma=1; total time=   0.5s\n",
      "[CV] END .......................................C=1, gamma=1; total time=   0.5s\n",
      "[CV] END .....................................C=1, gamma=0.1; total time=   0.5s\n",
      "[CV] END .....................................C=1, gamma=0.1; total time=   0.5s\n",
      "[CV] END .....................................C=1, gamma=0.1; total time=   0.5s\n",
      "[CV] END .....................................C=1, gamma=0.1; total time=   0.5s\n",
      "[CV] END .....................................C=1, gamma=0.1; total time=   0.5s\n",
      "[CV] END ....................................C=1, gamma=0.01; total time=   0.5s\n",
      "[CV] END ....................................C=1, gamma=0.01; total time=   0.5s\n",
      "[CV] END ....................................C=1, gamma=0.01; total time=   0.5s\n",
      "[CV] END ....................................C=1, gamma=0.01; total time=   0.5s\n",
      "[CV] END ....................................C=1, gamma=0.01; total time=   0.5s\n",
      "[CV] END ...................................C=1, gamma=0.001; total time=   0.5s\n",
      "[CV] END ...................................C=1, gamma=0.001; total time=   0.5s\n",
      "[CV] END ...................................C=1, gamma=0.001; total time=   1.1s\n",
      "[CV] END ...................................C=1, gamma=0.001; total time=   1.0s\n",
      "[CV] END ...................................C=1, gamma=0.001; total time=   0.6s\n",
      "[CV] END ......................................C=10, gamma=1; total time=   0.6s\n",
      "[CV] END ......................................C=10, gamma=1; total time=   0.6s\n",
      "[CV] END ......................................C=10, gamma=1; total time=   0.6s\n",
      "[CV] END ......................................C=10, gamma=1; total time=   0.6s\n",
      "[CV] END ......................................C=10, gamma=1; total time=   0.6s\n",
      "[CV] END ....................................C=10, gamma=0.1; total time=   0.6s\n",
      "[CV] END ....................................C=10, gamma=0.1; total time=   0.6s\n",
      "[CV] END ....................................C=10, gamma=0.1; total time=   0.6s\n",
      "[CV] END ....................................C=10, gamma=0.1; total time=   0.6s\n",
      "[CV] END ....................................C=10, gamma=0.1; total time=   0.6s\n",
      "[CV] END ...................................C=10, gamma=0.01; total time=   0.6s\n",
      "[CV] END ...................................C=10, gamma=0.01; total time=   0.6s\n",
      "[CV] END ...................................C=10, gamma=0.01; total time=   0.5s\n",
      "[CV] END ...................................C=10, gamma=0.01; total time=   0.6s\n",
      "[CV] END ...................................C=10, gamma=0.01; total time=   0.6s\n",
      "[CV] END ..................................C=10, gamma=0.001; total time=   0.6s\n",
      "[CV] END ..................................C=10, gamma=0.001; total time=   0.6s\n",
      "[CV] END ..................................C=10, gamma=0.001; total time=   0.6s\n",
      "[CV] END ..................................C=10, gamma=0.001; total time=   0.6s\n",
      "[CV] END ..................................C=10, gamma=0.001; total time=   0.6s\n",
      "[CV] END .....................................C=100, gamma=1; total time=   1.3s\n",
      "[CV] END .....................................C=100, gamma=1; total time=   1.3s\n",
      "[CV] END .....................................C=100, gamma=1; total time=   1.2s\n",
      "[CV] END .....................................C=100, gamma=1; total time=   1.3s\n",
      "[CV] END .....................................C=100, gamma=1; total time=   1.5s\n",
      "[CV] END ...................................C=100, gamma=0.1; total time=   1.3s\n",
      "[CV] END ...................................C=100, gamma=0.1; total time=   1.3s\n",
      "[CV] END ...................................C=100, gamma=0.1; total time=   1.2s\n",
      "[CV] END ...................................C=100, gamma=0.1; total time=   1.3s\n",
      "[CV] END ...................................C=100, gamma=0.1; total time=   1.6s\n",
      "[CV] END ..................................C=100, gamma=0.01; total time=   1.3s\n",
      "[CV] END ..................................C=100, gamma=0.01; total time=   1.3s\n",
      "[CV] END ..................................C=100, gamma=0.01; total time=   1.2s\n",
      "[CV] END ..................................C=100, gamma=0.01; total time=   1.4s\n",
      "[CV] END ..................................C=100, gamma=0.01; total time=   1.6s\n",
      "[CV] END .................................C=100, gamma=0.001; total time=   1.3s\n",
      "[CV] END .................................C=100, gamma=0.001; total time=   1.3s\n",
      "[CV] END .................................C=100, gamma=0.001; total time=   1.2s\n",
      "[CV] END .................................C=100, gamma=0.001; total time=   1.3s\n",
      "[CV] END .................................C=100, gamma=0.001; total time=   1.6s\n",
      "[CV] END ....................................C=1000, gamma=1; total time=  10.8s\n",
      "[CV] END ....................................C=1000, gamma=1; total time=   9.7s\n",
      "[CV] END ....................................C=1000, gamma=1; total time=   7.8s\n",
      "[CV] END ....................................C=1000, gamma=1; total time=   9.1s\n",
      "[CV] END ....................................C=1000, gamma=1; total time=   7.7s\n",
      "[CV] END ..................................C=1000, gamma=0.1; total time=  10.7s\n",
      "[CV] END ..................................C=1000, gamma=0.1; total time=   9.6s\n",
      "[CV] END ..................................C=1000, gamma=0.1; total time=   7.8s\n",
      "[CV] END ..................................C=1000, gamma=0.1; total time=   8.9s\n",
      "[CV] END ..................................C=1000, gamma=0.1; total time=   7.8s\n",
      "[CV] END .................................C=1000, gamma=0.01; total time=  10.6s\n",
      "[CV] END .................................C=1000, gamma=0.01; total time=   9.6s\n",
      "[CV] END .................................C=1000, gamma=0.01; total time=   7.8s\n",
      "[CV] END .................................C=1000, gamma=0.01; total time=   9.0s\n",
      "[CV] END .................................C=1000, gamma=0.01; total time=   7.9s\n",
      "[CV] END ................................C=1000, gamma=0.001; total time=  11.0s\n",
      "[CV] END ................................C=1000, gamma=0.001; total time=   9.8s\n",
      "[CV] END ................................C=1000, gamma=0.001; total time=   8.0s\n",
      "[CV] END ................................C=1000, gamma=0.001; total time=   9.0s\n",
      "[CV] END ................................C=1000, gamma=0.001; total time=   7.7s\n"
     ]
    },
    {
     "data": {
      "text/html": [
       "<style>#sk-container-id-1 {color: black;background-color: white;}#sk-container-id-1 pre{padding: 0;}#sk-container-id-1 div.sk-toggleable {background-color: white;}#sk-container-id-1 label.sk-toggleable__label {cursor: pointer;display: block;width: 100%;margin-bottom: 0;padding: 0.3em;box-sizing: border-box;text-align: center;}#sk-container-id-1 label.sk-toggleable__label-arrow:before {content: \"▸\";float: left;margin-right: 0.25em;color: #696969;}#sk-container-id-1 label.sk-toggleable__label-arrow:hover:before {color: black;}#sk-container-id-1 div.sk-estimator:hover label.sk-toggleable__label-arrow:before {color: black;}#sk-container-id-1 div.sk-toggleable__content {max-height: 0;max-width: 0;overflow: hidden;text-align: left;background-color: #f0f8ff;}#sk-container-id-1 div.sk-toggleable__content pre {margin: 0.2em;color: black;border-radius: 0.25em;background-color: #f0f8ff;}#sk-container-id-1 input.sk-toggleable__control:checked~div.sk-toggleable__content {max-height: 200px;max-width: 100%;overflow: auto;}#sk-container-id-1 input.sk-toggleable__control:checked~label.sk-toggleable__label-arrow:before {content: \"▾\";}#sk-container-id-1 div.sk-estimator input.sk-toggleable__control:checked~label.sk-toggleable__label {background-color: #d4ebff;}#sk-container-id-1 div.sk-label input.sk-toggleable__control:checked~label.sk-toggleable__label {background-color: #d4ebff;}#sk-container-id-1 input.sk-hidden--visually {border: 0;clip: rect(1px 1px 1px 1px);clip: rect(1px, 1px, 1px, 1px);height: 1px;margin: -1px;overflow: hidden;padding: 0;position: absolute;width: 1px;}#sk-container-id-1 div.sk-estimator {font-family: monospace;background-color: #f0f8ff;border: 1px dotted black;border-radius: 0.25em;box-sizing: border-box;margin-bottom: 0.5em;}#sk-container-id-1 div.sk-estimator:hover {background-color: #d4ebff;}#sk-container-id-1 div.sk-parallel-item::after {content: \"\";width: 100%;border-bottom: 1px solid gray;flex-grow: 1;}#sk-container-id-1 div.sk-label:hover label.sk-toggleable__label {background-color: #d4ebff;}#sk-container-id-1 div.sk-serial::before {content: \"\";position: absolute;border-left: 1px solid gray;box-sizing: border-box;top: 0;bottom: 0;left: 50%;z-index: 0;}#sk-container-id-1 div.sk-serial {display: flex;flex-direction: column;align-items: center;background-color: white;padding-right: 0.2em;padding-left: 0.2em;position: relative;}#sk-container-id-1 div.sk-item {position: relative;z-index: 1;}#sk-container-id-1 div.sk-parallel {display: flex;align-items: stretch;justify-content: center;background-color: white;position: relative;}#sk-container-id-1 div.sk-item::before, #sk-container-id-1 div.sk-parallel-item::before {content: \"\";position: absolute;border-left: 1px solid gray;box-sizing: border-box;top: 0;bottom: 0;left: 50%;z-index: -1;}#sk-container-id-1 div.sk-parallel-item {display: flex;flex-direction: column;z-index: 1;position: relative;background-color: white;}#sk-container-id-1 div.sk-parallel-item:first-child::after {align-self: flex-end;width: 50%;}#sk-container-id-1 div.sk-parallel-item:last-child::after {align-self: flex-start;width: 50%;}#sk-container-id-1 div.sk-parallel-item:only-child::after {width: 0;}#sk-container-id-1 div.sk-dashed-wrapped {border: 1px dashed gray;margin: 0 0.4em 0.5em 0.4em;box-sizing: border-box;padding-bottom: 0.4em;background-color: white;}#sk-container-id-1 div.sk-label label {font-family: monospace;font-weight: bold;display: inline-block;line-height: 1.2em;}#sk-container-id-1 div.sk-label-container {text-align: center;}#sk-container-id-1 div.sk-container {/* jupyter's `normalize.less` sets `[hidden] { display: none; }` but bootstrap.min.css set `[hidden] { display: none !important; }` so we also need the `!important` here to be able to override the default hidden behavior on the sphinx rendered scikit-learn.org. See: https://github.com/scikit-learn/scikit-learn/issues/21755 */display: inline-block !important;position: relative;}#sk-container-id-1 div.sk-text-repr-fallback {display: none;}</style><div id=\"sk-container-id-1\" class=\"sk-top-container\"><div class=\"sk-text-repr-fallback\"><pre>GridSearchCV(cv=5, estimator=SVC(kernel=&#x27;linear&#x27;),\n",
       "             param_grid=[{&#x27;C&#x27;: [1, 10, 100, 1000],\n",
       "                          &#x27;gamma&#x27;: [1, 0.1, 0.01, 0.001]}],\n",
       "             scoring=&#x27;f1&#x27;, verbose=2)</pre><b>In a Jupyter environment, please rerun this cell to show the HTML representation or trust the notebook. <br />On GitHub, the HTML representation is unable to render, please try loading this page with nbviewer.org.</b></div><div class=\"sk-container\" hidden><div class=\"sk-item sk-dashed-wrapped\"><div class=\"sk-label-container\"><div class=\"sk-label sk-toggleable\"><input class=\"sk-toggleable__control sk-hidden--visually\" id=\"sk-estimator-id-1\" type=\"checkbox\" ><label for=\"sk-estimator-id-1\" class=\"sk-toggleable__label sk-toggleable__label-arrow\">GridSearchCV</label><div class=\"sk-toggleable__content\"><pre>GridSearchCV(cv=5, estimator=SVC(kernel=&#x27;linear&#x27;),\n",
       "             param_grid=[{&#x27;C&#x27;: [1, 10, 100, 1000],\n",
       "                          &#x27;gamma&#x27;: [1, 0.1, 0.01, 0.001]}],\n",
       "             scoring=&#x27;f1&#x27;, verbose=2)</pre></div></div></div><div class=\"sk-parallel\"><div class=\"sk-parallel-item\"><div class=\"sk-item\"><div class=\"sk-label-container\"><div class=\"sk-label sk-toggleable\"><input class=\"sk-toggleable__control sk-hidden--visually\" id=\"sk-estimator-id-2\" type=\"checkbox\" ><label for=\"sk-estimator-id-2\" class=\"sk-toggleable__label sk-toggleable__label-arrow\">estimator: SVC</label><div class=\"sk-toggleable__content\"><pre>SVC(kernel=&#x27;linear&#x27;)</pre></div></div></div><div class=\"sk-serial\"><div class=\"sk-item\"><div class=\"sk-estimator sk-toggleable\"><input class=\"sk-toggleable__control sk-hidden--visually\" id=\"sk-estimator-id-3\" type=\"checkbox\" ><label for=\"sk-estimator-id-3\" class=\"sk-toggleable__label sk-toggleable__label-arrow\">SVC</label><div class=\"sk-toggleable__content\"><pre>SVC(kernel=&#x27;linear&#x27;)</pre></div></div></div></div></div></div></div></div></div></div>"
      ],
      "text/plain": [
       "GridSearchCV(cv=5, estimator=SVC(kernel='linear'),\n",
       "             param_grid=[{'C': [1, 10, 100, 1000],\n",
       "                          'gamma': [1, 0.1, 0.01, 0.001]}],\n",
       "             scoring='f1', verbose=2)"
      ]
     },
     "execution_count": 6,
     "metadata": {},
     "output_type": "execute_result"
    }
   ],
   "source": [
    "tuned_parameters = [\n",
    "    { \"gamma\": [1,0.1,0.01,0.001], \"C\": [1, 10, 100, 1000]},\n",
    "]\n",
    "\n",
    "grid = GridSearchCV(SVC(kernel='linear'),tuned_parameters, refit=True,verbose=2,cv=5, scoring='f1')\n",
    "grid.fit(X_train,y_train)"
   ]
  },
  {
   "cell_type": "code",
   "execution_count": 7,
   "metadata": {},
   "outputs": [
    {
     "data": {
      "text/plain": [
       "{'C': 1000, 'gamma': 1}"
      ]
     },
     "execution_count": 7,
     "metadata": {},
     "output_type": "execute_result"
    }
   ],
   "source": [
    "grid.best_params_"
   ]
  },
  {
   "cell_type": "code",
   "execution_count": 8,
   "metadata": {},
   "outputs": [
    {
     "data": {
      "text/plain": [
       "0.8426590525461274"
      ]
     },
     "execution_count": 8,
     "metadata": {},
     "output_type": "execute_result"
    }
   ],
   "source": [
    "grid.best_score_"
   ]
  },
  {
   "cell_type": "code",
   "execution_count": 9,
   "metadata": {},
   "outputs": [
    {
     "data": {
      "text/plain": [
       "0.8911290322580645"
      ]
     },
     "execution_count": 9,
     "metadata": {},
     "output_type": "execute_result"
    }
   ],
   "source": [
    "from sklearn.metrics import accuracy_score\n",
    "predicted_y_acc = grid.predict(X_test)\n",
    "predicted_y_acc = (predicted_y_acc > 0.5).astype('int32')\n",
    "accuracy_score(predicted_y_acc, y_test)"
   ]
  },
  {
   "cell_type": "code",
   "execution_count": 14,
   "metadata": {},
   "outputs": [
    {
     "name": "stdout",
     "output_type": "stream",
     "text": [
      "Tuned Hyperparameters : {'C': 1000, 'gamma': 1}\n",
      "Train F1 Score : 0.8426590525461274\n",
      "Test F1 Score:  0.8512669849430775\n"
     ]
    }
   ],
   "source": [
    "print(\"Tuned Hyperparameters :\", grid.best_params_)\n",
    "print(\"Train F1 Score :\",grid.best_score_)\n",
    "best_y_pr = grid.predict(X_test)\n",
    "print('Test F1 Score: ', f1_score(y_test, best_y_pr))"
   ]
  },
  {
   "cell_type": "code",
   "execution_count": 10,
   "metadata": {},
   "outputs": [
    {
     "data": {
      "image/png": "[encoded data removed]",
      "text/plain": [
       "<Figure size 1000x600 with 1 Axes>"
      ]
     },
     "metadata": {},
     "output_type": "display_data"
    }
   ],
   "source": [
    "from matplotlib import pyplot as plt\n",
    "feat_importances = grid.best_estimator_.coef_[0]\n",
    "indices = np.argsort(feat_importances)\n",
    "# plot\n",
    "fig, ax = plt.subplots(figsize=(10, 6))\n",
    "plt.title(\"Ranked feature importances\")\n",
    "plt.barh(range(len(feat_importances)), feat_importances[indices], align=\"center\")\n",
    "features = ['feature_{}'.format(columns[i]) for i in range(len(columns))]\n",
    "plt.yticks(range(len(feat_importances)), [features[idx] for idx in indices])\n",
    "plt.ylim([-1, len(feat_importances)])\n",
    "plt.show();"
   ]
  }
 ],
 "metadata": {
  "kernelspec": {
   "display_name": "Python 3 (ipykernel)",
   "language": "python",
   "name": "python3"
  },
  "language_info": {
   "codemirror_mode": {
    "name": "ipython",
    "version": 3
   },
   "file_extension": ".py",
   "mimetype": "text/x-python",
   "name": "python",
   "nbconvert_exporter": "python",
   "pygments_lexer": "ipython3",
   "version": "3.9.0"
  },
  "vscode": {
   "interpreter": {
    "hash": "aee8b7b246df8f9039afb4144a1f6fd8d2ca17a180786b69acc140d282b71a49"
   }
  }
 },
 "nbformat": 4,
 "nbformat_minor": 2
}
