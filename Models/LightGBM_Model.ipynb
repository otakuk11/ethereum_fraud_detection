{
 "cells": [
  {
   "cell_type": "code",
   "execution_count": 17,
   "metadata": {
    "colab": {
     "base_uri": "https://localhost:8080/"
    },
    "executionInfo": {
     "elapsed": 2972,
     "status": "ok",
     "timestamp": 1667801049468,
     "user": {
      "displayName": "Victor Wong",
      "userId": "11168613095769754614"
     },
     "user_tz": -480
    },
    "id": "gcWFu90jy0ob",
    "outputId": "8f72f25e-9fad-4af2-9ba4-ae1c06d2cc1a"
   },
   "outputs": [],
   "source": [
    "import numpy as np\n",
    "import pandas as pd\n",
    "import lightgbm as lgb\n",
    "from sklearn.model_selection import GridSearchCV, train_test_split\n",
    "from sklearn.metrics import f1_score, roc_auc_score, recall_score, accuracy_score, precision_score\n",
    "import matplotlib\n",
    "import matplotlib.pyplot as plt\n",
    "import seaborn as sns\n",
    "matplotlib.rcParams['figure.figsize'] = (11.0, 8.0)"
   ]
  },
  {
   "cell_type": "code",
   "execution_count": 47,
   "metadata": {
    "colab": {
     "base_uri": "https://localhost:8080/",
     "height": 374
    },
    "executionInfo": {
     "elapsed": 481,
     "status": "ok",
     "timestamp": 1667800734057,
     "user": {
      "displayName": "Victor Wong",
      "userId": "11168613095769754614"
     },
     "user_tz": -480
    },
    "id": "9rdZ2Z2RzdcS",
    "outputId": "f1e03c05-ed88-4310-d342-4dd3254e4ddd"
   },
   "outputs": [
    {
     "data": {
      "text/html": [
       "<div>\n",
       "<style scoped>\n",
       "    .dataframe tbody tr th:only-of-type {\n",
       "        vertical-align: middle;\n",
       "    }\n",
       "\n",
       "    .dataframe tbody tr th {\n",
       "        vertical-align: top;\n",
       "    }\n",
       "\n",
       "    .dataframe thead th {\n",
       "        text-align: right;\n",
       "    }\n",
       "</style>\n",
       "<table border=\"1\" class=\"dataframe\">\n",
       "  <thead>\n",
       "    <tr style=\"text-align: right;\">\n",
       "      <th></th>\n",
       "      <th>Address</th>\n",
       "      <th>FLAG</th>\n",
       "      <th>Avg min between sent tnx</th>\n",
       "      <th>Avg min between received tnx</th>\n",
       "      <th>Time Diff between first and last (Mins)</th>\n",
       "      <th>Unique Received From Addresses</th>\n",
       "      <th>min value received</th>\n",
       "      <th>max value received</th>\n",
       "      <th>avg val received</th>\n",
       "      <th>min val sent</th>\n",
       "      <th>avg val sent</th>\n",
       "      <th>total transactions (including tnx to create contract</th>\n",
       "      <th>total ether received</th>\n",
       "      <th>total ether balance</th>\n",
       "    </tr>\n",
       "  </thead>\n",
       "  <tbody>\n",
       "    <tr>\n",
       "      <th>0</th>\n",
       "      <td>0x87d884aaa6ff9e9b6014631b0abae80b53953fb8</td>\n",
       "      <td>1</td>\n",
       "      <td>5151.68</td>\n",
       "      <td>15159.08</td>\n",
       "      <td>71235.62</td>\n",
       "      <td>1</td>\n",
       "      <td>0.010000</td>\n",
       "      <td>0.020000</td>\n",
       "      <td>0.013367</td>\n",
       "      <td>0.000000</td>\n",
       "      <td>0.000000</td>\n",
       "      <td>8</td>\n",
       "      <td>0.040100</td>\n",
       "      <td>0.040100</td>\n",
       "    </tr>\n",
       "    <tr>\n",
       "      <th>1</th>\n",
       "      <td>0xd42393df90d582bd8a5493171f0173e3a017d391</td>\n",
       "      <td>1</td>\n",
       "      <td>1179.02</td>\n",
       "      <td>1124.89</td>\n",
       "      <td>25126.45</td>\n",
       "      <td>13</td>\n",
       "      <td>0.000000</td>\n",
       "      <td>0.750000</td>\n",
       "      <td>0.176667</td>\n",
       "      <td>0.145000</td>\n",
       "      <td>0.419270</td>\n",
       "      <td>22</td>\n",
       "      <td>2.650000</td>\n",
       "      <td>-0.284889</td>\n",
       "    </tr>\n",
       "    <tr>\n",
       "      <th>2</th>\n",
       "      <td>0x3025c36d8a9620d3df89e9e9b1acbdfd639a6f37</td>\n",
       "      <td>1</td>\n",
       "      <td>361.73</td>\n",
       "      <td>0.00</td>\n",
       "      <td>723.47</td>\n",
       "      <td>1</td>\n",
       "      <td>4.999916</td>\n",
       "      <td>4.999916</td>\n",
       "      <td>4.999916</td>\n",
       "      <td>2.490000</td>\n",
       "      <td>2.499538</td>\n",
       "      <td>3</td>\n",
       "      <td>4.999916</td>\n",
       "      <td>0.000840</td>\n",
       "    </tr>\n",
       "    <tr>\n",
       "      <th>3</th>\n",
       "      <td>0x6309f709faad518fc158af4c14edfa7b06424770</td>\n",
       "      <td>1</td>\n",
       "      <td>0.00</td>\n",
       "      <td>0.00</td>\n",
       "      <td>0.00</td>\n",
       "      <td>0</td>\n",
       "      <td>0.000000</td>\n",
       "      <td>0.000000</td>\n",
       "      <td>0.000000</td>\n",
       "      <td>0.000000</td>\n",
       "      <td>0.000000</td>\n",
       "      <td>0</td>\n",
       "      <td>0.000000</td>\n",
       "      <td>0.000000</td>\n",
       "    </tr>\n",
       "    <tr>\n",
       "      <th>4</th>\n",
       "      <td>0x3d020954e30c3d40b7f0c533cf198bc10dd45a49</td>\n",
       "      <td>1</td>\n",
       "      <td>14280.60</td>\n",
       "      <td>1479.86</td>\n",
       "      <td>45357.57</td>\n",
       "      <td>21</td>\n",
       "      <td>0.035000</td>\n",
       "      <td>0.200000</td>\n",
       "      <td>0.099286</td>\n",
       "      <td>2.084658</td>\n",
       "      <td>2.084658</td>\n",
       "      <td>22</td>\n",
       "      <td>2.085000</td>\n",
       "      <td>0.000342</td>\n",
       "    </tr>\n",
       "  </tbody>\n",
       "</table>\n",
       "</div>"
      ],
      "text/plain": [
       "                                      Address  FLAG  Avg min between sent tnx  \\\n",
       "0  0x87d884aaa6ff9e9b6014631b0abae80b53953fb8     1                   5151.68   \n",
       "1  0xd42393df90d582bd8a5493171f0173e3a017d391     1                   1179.02   \n",
       "2  0x3025c36d8a9620d3df89e9e9b1acbdfd639a6f37     1                    361.73   \n",
       "3  0x6309f709faad518fc158af4c14edfa7b06424770     1                      0.00   \n",
       "4  0x3d020954e30c3d40b7f0c533cf198bc10dd45a49     1                  14280.60   \n",
       "\n",
       "   Avg min between received tnx  Time Diff between first and last (Mins)  \\\n",
       "0                      15159.08                                 71235.62   \n",
       "1                       1124.89                                 25126.45   \n",
       "2                          0.00                                   723.47   \n",
       "3                          0.00                                     0.00   \n",
       "4                       1479.86                                 45357.57   \n",
       "\n",
       "   Unique Received From Addresses  min value received  max value received   \\\n",
       "0                               1            0.010000             0.020000   \n",
       "1                              13            0.000000             0.750000   \n",
       "2                               1            4.999916             4.999916   \n",
       "3                               0            0.000000             0.000000   \n",
       "4                              21            0.035000             0.200000   \n",
       "\n",
       "   avg val received  min val sent  avg val sent  \\\n",
       "0          0.013367      0.000000      0.000000   \n",
       "1          0.176667      0.145000      0.419270   \n",
       "2          4.999916      2.490000      2.499538   \n",
       "3          0.000000      0.000000      0.000000   \n",
       "4          0.099286      2.084658      2.084658   \n",
       "\n",
       "   total transactions (including tnx to create contract  total ether received  \\\n",
       "0                                                  8                 0.040100   \n",
       "1                                                 22                 2.650000   \n",
       "2                                                  3                 4.999916   \n",
       "3                                                  0                 0.000000   \n",
       "4                                                 22                 2.085000   \n",
       "\n",
       "   total ether balance  \n",
       "0             0.040100  \n",
       "1            -0.284889  \n",
       "2             0.000840  \n",
       "3             0.000000  \n",
       "4             0.000342  "
      ]
     },
     "execution_count": 47,
     "metadata": {},
     "output_type": "execute_result"
    }
   ],
   "source": [
    "df = pd.read_csv('../Data/address_data_combined.csv')\n",
    "df.head()"
   ]
  },
  {
   "cell_type": "code",
   "execution_count": 48,
   "metadata": {
    "colab": {
     "base_uri": "https://localhost:8080/",
     "height": 393
    },
    "executionInfo": {
     "elapsed": 439,
     "status": "ok",
     "timestamp": 1667802931839,
     "user": {
      "displayName": "Victor Wong",
      "userId": "11168613095769754614"
     },
     "user_tz": -480
    },
    "id": "pOHqNFinqgjb",
    "outputId": "d3802d86-33c3-4b70-822a-c6616d304d2f"
   },
   "outputs": [
    {
     "name": "stdout",
     "output_type": "stream",
     "text": [
      "(9908, 12)\n"
     ]
    },
    {
     "data": {
      "text/html": [
       "<div>\n",
       "<style scoped>\n",
       "    .dataframe tbody tr th:only-of-type {\n",
       "        vertical-align: middle;\n",
       "    }\n",
       "\n",
       "    .dataframe tbody tr th {\n",
       "        vertical-align: top;\n",
       "    }\n",
       "\n",
       "    .dataframe thead th {\n",
       "        text-align: right;\n",
       "    }\n",
       "</style>\n",
       "<table border=\"1\" class=\"dataframe\">\n",
       "  <thead>\n",
       "    <tr style=\"text-align: right;\">\n",
       "      <th></th>\n",
       "      <th>Avg min between sent tnx</th>\n",
       "      <th>Avg min between received tnx</th>\n",
       "      <th>Time Diff between first and last (Mins)</th>\n",
       "      <th>Unique Received From Addresses</th>\n",
       "      <th>min value received</th>\n",
       "      <th>max value received</th>\n",
       "      <th>avg val received</th>\n",
       "      <th>min val sent</th>\n",
       "      <th>avg val sent</th>\n",
       "      <th>total transactions (including tnx to create contract</th>\n",
       "      <th>total ether received</th>\n",
       "      <th>total ether balance</th>\n",
       "    </tr>\n",
       "  </thead>\n",
       "  <tbody>\n",
       "    <tr>\n",
       "      <th>6709</th>\n",
       "      <td>17.06</td>\n",
       "      <td>0.00</td>\n",
       "      <td>51.17</td>\n",
       "      <td>1</td>\n",
       "      <td>101.0000</td>\n",
       "      <td>101.000000</td>\n",
       "      <td>101.000000</td>\n",
       "      <td>10.804780</td>\n",
       "      <td>33.666149</td>\n",
       "      <td>4</td>\n",
       "      <td>101.000000</td>\n",
       "      <td>0.001554</td>\n",
       "    </tr>\n",
       "    <tr>\n",
       "      <th>13808</th>\n",
       "      <td>2679.43</td>\n",
       "      <td>2841.02</td>\n",
       "      <td>275214.32</td>\n",
       "      <td>21</td>\n",
       "      <td>0.0001</td>\n",
       "      <td>15.000000</td>\n",
       "      <td>2.295850</td>\n",
       "      <td>0.000000</td>\n",
       "      <td>1.877316</td>\n",
       "      <td>100</td>\n",
       "      <td>103.313259</td>\n",
       "      <td>0.060902</td>\n",
       "    </tr>\n",
       "    <tr>\n",
       "      <th>8333</th>\n",
       "      <td>103299.49</td>\n",
       "      <td>37551.75</td>\n",
       "      <td>826452.87</td>\n",
       "      <td>6</td>\n",
       "      <td>0.0000</td>\n",
       "      <td>52.532971</td>\n",
       "      <td>23.290155</td>\n",
       "      <td>0.000000</td>\n",
       "      <td>16.627500</td>\n",
       "      <td>15</td>\n",
       "      <td>163.031084</td>\n",
       "      <td>30.011085</td>\n",
       "    </tr>\n",
       "    <tr>\n",
       "      <th>6981</th>\n",
       "      <td>4756.98</td>\n",
       "      <td>11283.84</td>\n",
       "      <td>46352.60</td>\n",
       "      <td>1</td>\n",
       "      <td>11.0000</td>\n",
       "      <td>20.000000</td>\n",
       "      <td>15.500000</td>\n",
       "      <td>9.975152</td>\n",
       "      <td>10.194942</td>\n",
       "      <td>7</td>\n",
       "      <td>31.000000</td>\n",
       "      <td>-19.974711</td>\n",
       "    </tr>\n",
       "    <tr>\n",
       "      <th>676</th>\n",
       "      <td>0.00</td>\n",
       "      <td>0.00</td>\n",
       "      <td>0.00</td>\n",
       "      <td>0</td>\n",
       "      <td>0.0000</td>\n",
       "      <td>0.000000</td>\n",
       "      <td>0.000000</td>\n",
       "      <td>0.000000</td>\n",
       "      <td>0.000000</td>\n",
       "      <td>0</td>\n",
       "      <td>0.000000</td>\n",
       "      <td>0.000000</td>\n",
       "    </tr>\n",
       "  </tbody>\n",
       "</table>\n",
       "</div>"
      ],
      "text/plain": [
       "       Avg min between sent tnx  Avg min between received tnx  \\\n",
       "6709                      17.06                          0.00   \n",
       "13808                   2679.43                       2841.02   \n",
       "8333                  103299.49                      37551.75   \n",
       "6981                    4756.98                      11283.84   \n",
       "676                        0.00                          0.00   \n",
       "\n",
       "       Time Diff between first and last (Mins)  \\\n",
       "6709                                     51.17   \n",
       "13808                                275214.32   \n",
       "8333                                 826452.87   \n",
       "6981                                  46352.60   \n",
       "676                                       0.00   \n",
       "\n",
       "       Unique Received From Addresses  min value received  \\\n",
       "6709                                1            101.0000   \n",
       "13808                              21              0.0001   \n",
       "8333                                6              0.0000   \n",
       "6981                                1             11.0000   \n",
       "676                                 0              0.0000   \n",
       "\n",
       "       max value received   avg val received  min val sent  avg val sent  \\\n",
       "6709            101.000000        101.000000     10.804780     33.666149   \n",
       "13808            15.000000          2.295850      0.000000      1.877316   \n",
       "8333             52.532971         23.290155      0.000000     16.627500   \n",
       "6981             20.000000         15.500000      9.975152     10.194942   \n",
       "676               0.000000          0.000000      0.000000      0.000000   \n",
       "\n",
       "       total transactions (including tnx to create contract  \\\n",
       "6709                                                   4      \n",
       "13808                                                100      \n",
       "8333                                                  15      \n",
       "6981                                                   7      \n",
       "676                                                    0      \n",
       "\n",
       "       total ether received  total ether balance  \n",
       "6709             101.000000             0.001554  \n",
       "13808            103.313259             0.060902  \n",
       "8333             163.031084            30.011085  \n",
       "6981              31.000000           -19.974711  \n",
       "676                0.000000             0.000000  "
      ]
     },
     "execution_count": 48,
     "metadata": {},
     "output_type": "execute_result"
    }
   ],
   "source": [
    "X = df.drop(columns=['Address', 'FLAG'])\n",
    "y = df['FLAG']\n",
    "\n",
    "X_train_full, X_test, y_train_full, y_test = train_test_split(X, y, test_size=0.3, random_state=42, stratify=y)\n",
    "print(X_train_full.shape)\n",
    "X_train_full.head()"
   ]
  },
  {
   "cell_type": "code",
   "execution_count": 49,
   "metadata": {
    "colab": {
     "base_uri": "https://localhost:8080/"
    },
    "executionInfo": {
     "elapsed": 510,
     "status": "ok",
     "timestamp": 1667802947574,
     "user": {
      "displayName": "Victor Wong",
      "userId": "11168613095769754614"
     },
     "user_tz": -480
    },
    "id": "VLErsnAxquRl",
    "outputId": "2a953573-d3aa-4994-89cb-9bed79097e95"
   },
   "outputs": [
    {
     "data": {
      "text/plain": [
       "array([[False, False, False, ..., False, False, False],\n",
       "       [False, False, False, ..., False, False, False],\n",
       "       [False, False, False, ..., False, False, False],\n",
       "       ...,\n",
       "       [False, False, False, ..., False, False, False],\n",
       "       [False, False, False, ..., False, False, False],\n",
       "       [False, False, False, ..., False, False, False]])"
      ]
     },
     "execution_count": 49,
     "metadata": {},
     "output_type": "execute_result"
    }
   ],
   "source": [
    "# Feature Engineering\n",
    "from sklearn.preprocessing import MinMaxScaler\n",
    "\n",
    "columns = ['Avg min between sent tnx', 'Avg min between received tnx',\n",
    "       'Time Diff between first and last (Mins)',\n",
    "       'Unique Received From Addresses', 'min value received',\n",
    "       'max value received ', 'avg val received', 'min val sent',\n",
    "       'avg val sent', 'total transactions (including tnx to create contract',\n",
    "       'total ether received', 'total ether balance']\n",
    "    \n",
    "scaler = MinMaxScaler()\n",
    "\n",
    "# Log for Skewed Data\n",
    "# log on both train and test data\n",
    "for c in columns:\n",
    "  X_train_full[c] = X_train_full[c].apply(lambda x: np.log(x) if x > 0 else 0)\n",
    "  X_test[c] = X_test[c].apply(lambda x: np.log(x) if x > 0 else 0)\n",
    "columns = X_train_full.columns\n",
    "\n",
    "# Scaling\n",
    "# only use training data to fit, to avoid data leakage\n",
    "# Not required for Naive Bayes but performed to ensure all variables are standardized through all ML models\n",
    "X_train_full = scaler.fit_transform(X_train_full)\n",
    "X_test = scaler.transform(X_test)\n",
    "\n",
    "np.isnan(X_train_full)"
   ]
  },
  {
   "cell_type": "code",
   "execution_count": 50,
   "metadata": {},
   "outputs": [],
   "source": [
    "params = {\n",
    "    \"learning_rate\": [0.01, 0.05, 0.1, 0.2],\n",
    "    \"num_leaves\": [20, 50, 100, 500, 1000],\n",
    "    \"max_depth\": [i for i in range(3, 12)],\n",
    "    \"max_bin\": [200, 300],\n",
    "    \"min_gain_to_split\": [i for i in range(0, 15, 5)],\n",
    "    \"bagging_fraction\": [0.2, 0.3, 0.5, 0.7, 0.95],\n",
    "    \"bagging_freq\": [1],\n",
    "    \"feature_fraction\": [0.2, 0.3, 0.5, 0.7, 0.95]\n",
    "}\n"
   ]
  },
  {
   "cell_type": "code",
   "execution_count": 51,
   "metadata": {
    "colab": {
     "base_uri": "https://localhost:8080/"
    },
    "executionInfo": {
     "elapsed": 300,
     "status": "ok",
     "timestamp": 1667802948387,
     "user": {
      "displayName": "Victor Wong",
      "userId": "11168613095769754614"
     },
     "user_tz": -480
    },
    "id": "DPmwtNlRrR6Z",
    "outputId": "523e3962-ef38-4ee2-c232-5f0bbf26e4b2"
   },
   "outputs": [],
   "source": [
    "clf = lgb.LGBMClassifier()\n",
    "\n",
    "tuned_clf = GridSearchCV(estimator=clf,\n",
    "                         param_grid=params,\n",
    "                         scoring='f1',\n",
    "                         cv=5,\n",
    "                         verbose=0,\n",
    "                         )"
   ]
  },
  {
   "cell_type": "code",
   "execution_count": 52,
   "metadata": {},
   "outputs": [],
   "source": [
    "import warnings\n",
    "warnings.filterwarnings(\"ignore\")\n",
    "#tuned_clf.fit(X_train_full,y_train_full, verbose = 0)"
   ]
  },
  {
   "cell_type": "code",
   "execution_count": null,
   "metadata": {
    "id": "VeXEwH1bve81"
   },
   "outputs": [],
   "source": []
  },
  {
   "cell_type": "code",
   "execution_count": 53,
   "metadata": {},
   "outputs": [
    {
     "name": "stdout",
     "output_type": "stream",
     "text": [
      "[LightGBM] [Warning] feature_fraction is set=0.95, colsample_bytree=1.0 will be ignored. Current value: feature_fraction=0.95\n",
      "[LightGBM] [Warning] min_gain_to_split is set=0, min_split_gain=0.0 will be ignored. Current value: min_gain_to_split=0\n",
      "[LightGBM] [Warning] bagging_fraction is set=0.95, subsample=1.0 will be ignored. Current value: bagging_fraction=0.95\n",
      "[LightGBM] [Warning] bagging_freq is set=1, subsample_freq=0 will be ignored. Current value: bagging_freq=1\n"
     ]
    },
    {
     "data": {
      "text/plain": [
       "LGBMClassifier(bagging_fraction=0.95, bagging_freq=1, feature_fraction=0.95,\n",
       "               learning_rate=0.2, max_bin=300, max_depth=6, min_gain_to_split=0,\n",
       "               num_leaves=20)"
      ]
     },
     "execution_count": 53,
     "metadata": {},
     "output_type": "execute_result"
    }
   ],
   "source": [
    "lightgbm_params = {\"bagging_fraction\": 0.95, \n",
    "                   \"bagging_freq\": 1,\n",
    "                   \"feature_fraction\": 0.95,\n",
    "                   \"learning_rate\": 0.2,\n",
    "                   \"max_bin\": 300, \n",
    "                   \"max_depth\": 6,\n",
    "                   \"min_gain_to_split\": 0,\n",
    "                   \"num_leaves\": 20}\n",
    "\n",
    "lightgbm_model = lgb.LGBMClassifier(**lightgbm_params)\n",
    "lightgbm_model.fit(X_train_full, y_train_full)"
   ]
  },
  {
   "cell_type": "code",
   "execution_count": 54,
   "metadata": {
    "scrolled": true
   },
   "outputs": [
    {
     "data": {
      "image/png": "[encoded data removed]",
      "text/plain": [
       "<Figure size 720x432 with 1 Axes>"
      ]
     },
     "metadata": {
      "needs_background": "light"
     },
     "output_type": "display_data"
    }
   ],
   "source": [
    "from sklearn.inspection import permutation_importance\n",
    "feat_importances = permutation_importance(lightgbm_model, X_test, y_test)['importances_mean']\n",
    "indices = np.argsort(feat_importances)\n",
    "# plot\n",
    "fig, ax = plt.subplots(figsize=(10, 6))\n",
    "plt.title(\"Ranked feature importances\")\n",
    "plt.barh(range(len(feat_importances)), feat_importances[indices], align=\"center\")\n",
    "features = ['feature_{}'.format(columns[i]) for i in range(len(columns))]\n",
    "plt.yticks(range(len(feat_importances)), [features[idx] for idx in indices])\n",
    "plt.ylim([-1, len(feat_importances)])\n",
    "plt.show();"
   ]
  },
  {
   "cell_type": "code",
   "execution_count": 55,
   "metadata": {
    "colab": {
     "base_uri": "https://localhost:8080/"
    },
    "executionInfo": {
     "elapsed": 13,
     "status": "ok",
     "timestamp": 1667802956164,
     "user": {
      "displayName": "Victor Wong",
      "userId": "11168613095769754614"
     },
     "user_tz": -480
    },
    "id": "CPTd5CJ9wlhe",
    "outputId": "fe835adb-c039-4a5f-a198-1c7d821800f2"
   },
   "outputs": [
    {
     "name": "stdout",
     "output_type": "stream",
     "text": [
      "Accuracy Score:  0.9352484106428067\n",
      "Test F1 Score:  0.9300788202390032\n"
     ]
    }
   ],
   "source": [
    "best_y_pr = lightgbm_model.predict(X_test)\n",
    "print('Accuracy Score: ', accuracy_score(y_test, best_y_pr))\n",
    "print('Test F1 Score: ', f1_score(y_test, best_y_pr))"
   ]
  }
 ],
 "metadata": {
  "colab": {
   "collapsed_sections": [],
   "provenance": []
  },
  "kernelspec": {
   "display_name": "Python 3 (ipykernel)",
   "language": "python",
   "name": "python3"
  },
  "language_info": {
   "codemirror_mode": {
    "name": "ipython",
    "version": 3
   },
   "file_extension": ".py",
   "mimetype": "text/x-python",
   "name": "python",
   "nbconvert_exporter": "python",
   "pygments_lexer": "ipython3",
   "version": "3.9.13"
  },
  "vscode": {
   "interpreter": {
    "hash": "aee8b7b246df8f9039afb4144a1f6fd8d2ca17a180786b69acc140d282b71a49"
   }
  }
 },
 "nbformat": 4,
 "nbformat_minor": 1
}
