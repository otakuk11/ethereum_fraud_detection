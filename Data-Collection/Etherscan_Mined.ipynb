{
  "cells": [
    {
      "cell_type": "code",
      "execution_count": null,
      "metadata": {
        "id": "NmiNKYuF_30Z"
      },
      "outputs": [],
      "source": [
        "import dotenv\n",
        "import os\n",
        "from web3 import Web3\n",
        "import requests\n",
        "import pandas as pd\n",
        "\n",
        "dotenv.load_dotenv(\".env\", override=True)"
      ]
    },
    {
      "cell_type": "code",
      "execution_count": null,
      "metadata": {
        "id": "veI3lyB-_30b"
      },
      "outputs": [],
      "source": [
        "def formQueryString(address, pgNo, offset, api_key):\n",
        "    return \"https://api.etherscan.io/api?module=account&action=txlist&address=\" + address + \"&startblock=0&endblock=99999999&page=\" + str(pgNo) + \"&offset=\" + str(offset) + \"&sort=asc&apikey=\" + os.environ.get(\"ETHERSCAN_API_KEY\")\n",
        "\n",
        "def get_address_stats_normal_tnx(address):\n",
        "    response = requests.get(formQueryString(address,1,0,os.environ.get(\"ETHERSCAN_API_KEY\")))\n",
        "\n",
        "    sample_df = pd.DataFrame(response.json()['result'])\n",
        "    # Column creation of ETH from Wei\n",
        "    sample_df['eth value'] = sample_df['value'].apply(lambda x: Web3.fromWei(int(x),'ether'))\n",
        "\n",
        "    # Typing of sent and received transactions\n",
        "    sample_df['txn type'] = sample_df['from'].apply(lambda x: 'sent' if x== address else 'received')\n",
        "\n",
        "    # Handling of Sent transactions stats\n",
        "    sample_df_sent =  sample_df[sample_df['txn type'] == 'sent']\n",
        "    sample_df_sent = sample_df_sent.sort_values(by=['timeStamp'])\n",
        "    sample_df_sent['timeStamp'] = sample_df_sent['timeStamp'].astype('int')\n",
        "\n",
        "    # Filtering of sent normal transfers to contract addresses\n",
        "    sample_df_sent_contracts = sample_df[sample_df['contractAddress'] != '']\n",
        "\n",
        "    # Compilation of normal sent transaction statistics\n",
        "    core_stats_Sent_tnx = len(sample_df_sent)\n",
        "    core_stats_MinValSent = sample_df_sent['eth value'].min()\n",
        "    core_stats_MaxValSent = sample_df_sent['eth value'].max()\n",
        "    core_stats_AvgValSent = sample_df_sent['eth value'].mean()\n",
        "    core_stats_MinValueSentToContract = sample_df_sent_contracts['eth value'].min()\n",
        "    core_stats_MaxValueSentToContract = sample_df_sent_contracts['eth value'].max()\n",
        "    core_stats_AvgValueSentToContract = sample_df_sent_contracts['eth value'].mean()\n",
        "    core_stats_TotalEtherSent = sample_df_sent['eth value'].sum()\n",
        "    core_stats_TotalEtherSent_Contracts = sample_df_sent_contracts['eth value'].sum()\n",
        "    core_stats_UniqueSentTo_Addresses = len(sample_df_sent['to'].unique())\n",
        "\n",
        "    # Handling of received transactions stats\n",
        "    sample_df_received =  sample_df[sample_df['txn type'] == 'received']\n",
        "    sample_df_received = sample_df_received.sort_values(by=['timeStamp'])\n",
        "    sample_df_received['timeStamp'] = sample_df_received['timeStamp'].astype('int')\n",
        "\n",
        "\n",
        "    # Compilation of normal received transaction statistics\n",
        "    core_stats_Received_tnx = len(sample_df_received)\n",
        "    core_stats_MinValueReceived = sample_df_received['eth value'].min()\n",
        "    core_stats_MaxValueReceived = sample_df_received['eth value'].max()\n",
        "    core_stats_AvgValueReceived = sample_df_received['eth value'].mean()\n",
        "    core_stats_TotalEtherReceived = sample_df_received['eth value'].sum()\n",
        "    core_stats_UniqueReceivedFrom_Addresses = len(sample_df_received['from'].unique())\n",
        "\n",
        "    # Handling of remaining normal transaction values\n",
        "    sample_df['timeStamp'] = sample_df['timeStamp'].astype('int')\n",
        "    sample_df.sort_values(by=['timeStamp'])\n",
        "    sample_df['unix time difference'] = sample_df['timeStamp'].diff()\n",
        "    sample_df_time_dim = sample_df.groupby('txn type')['unix time difference'].sum()/60\n",
        "\n",
        "\n",
        "    # Compilation of remaining normal transaction statistics\n",
        "    core_stats_TimeDiffbetweenfirstand_last = ((sample_df['timeStamp'].max()) - (sample_df['timeStamp'].min())) / 60\n",
        "    core_stats_TotalTransactions = len(sample_df)\n",
        "    core_stats_NumberofCreated_Contracts = len(sample_df[sample_df['contractAddress'] != ''])\n",
        "    core_stats_Avg_min_between_received_tnx = sample_df_time_dim['received']/ core_stats_Received_tnx\n",
        "    core_stats_Avg_min_between_sent_tnx = sample_df_time_dim['sent']/core_stats_Sent_tnx\n",
        "    core_stats_TotalEtherBalance = core_stats_TotalEtherReceived - core_stats_TotalEtherSent\n",
        "    compiled_normal_tnx_result = {'Address': address, 'FLAG': 1,\n",
        "                                  'Avg min between sent tnx': core_stats_Avg_min_between_sent_tnx,\n",
        "                                 'Avg min between received tnx': core_stats_Avg_min_between_received_tnx,\n",
        "                                  'Time Diff between first and last (Mins)': core_stats_TimeDiffbetweenfirstand_last,\n",
        "                                  'Sent tnx': core_stats_Sent_tnx, 'Received Tnx': core_stats_Received_tnx,\n",
        "                                  'Number of Created Contracts': core_stats_NumberofCreated_Contracts,\n",
        "                                  'Unique Received From Addresses':core_stats_UniqueReceivedFrom_Addresses,\n",
        "                                  'Unique Sent To Addresses': core_stats_UniqueSentTo_Addresses,\n",
        "                                  'min value received': core_stats_MinValueReceived,\n",
        "                                  'max value received ': core_stats_MaxValueReceived,\n",
        "                                  'avg val received': core_stats_AvgValueReceived,\n",
        "                                  'min val sent': core_stats_MinValSent,\n",
        "                                  'max val sent': core_stats_MaxValSent,\n",
        "                                  'avg val sent': core_stats_AvgValSent ,\n",
        "                                  'min value sent to contract': core_stats_MinValueSentToContract,\n",
        "                                  'max val sent to contract': core_stats_MaxValueSentToContract,\n",
        "                                  'avg value sent to contract': core_stats_AvgValueSentToContract,\n",
        "                                  'total transactions (including tnx to create contract': core_stats_TotalTransactions,\n",
        "                                  'total Ether sent': core_stats_TotalEtherSent,\n",
        "                                  'total ether received': core_stats_TotalEtherReceived,\n",
        "                                  'total ether sent contracts': core_stats_TotalEtherSent_Contracts,\n",
        "                                  'total ether balance':core_stats_TotalEtherBalance}\n",
        "    return pd.DataFrame([compiled_normal_tnx_result])\n"
      ]
    },
    {
      "cell_type": "code",
      "execution_count": null,
      "metadata": {
        "id": "KYu04bjd_30c"
      },
      "outputs": [],
      "source": [
        "def get_empty_details_for_address(address):\n",
        "    compiled_empty_address = {\n",
        "          'Address': address, 'FLAG': 1,\n",
        "          'Avg min between sent tnx': 0,\n",
        "         'Avg min between received tnx': 0,\n",
        "          'Time Diff between first and last (Mins)': 0,\n",
        "          'Sent tnx': 0, 'Received Tnx': 0,\n",
        "          'Number of Created Contracts': 0,\n",
        "          'Unique Received From Addresses':0,\n",
        "          'Unique Sent To Addresses': 0,\n",
        "          'min value received': 0,\n",
        "          'max value received ': 0,\n",
        "          'avg val received': 0,\n",
        "          'min val sent': 0,\n",
        "          'max val sent': 0,\n",
        "          'avg val sent': 0 ,\n",
        "          'min value sent to contract': 0,\n",
        "          'max val sent to contract': 0,\n",
        "          'avg value sent to contract': 0,\n",
        "          'total transactions (including tnx to create contract': 0,\n",
        "          'total Ether sent': 0,\n",
        "          'total ether received': 0,\n",
        "          'total ether sent contracts': 0,\n",
        "          'total ether balance':0\n",
        "    }\n",
        "    return pd.DataFrame([compiled_empty_address])\n",
        "\n",
        "# def get_details_for_address(address):\n",
        "#     normal_address_stats = get_address_stats_normal_tnx(address)\n",
        "#     return pd.DataFrame(normal_address_stats, index=pd.Series(1))\n"
      ]
    },
    {
      "cell_type": "code",
      "execution_count": null,
      "metadata": {
        "id": "IyYU8l4v_30c"
      },
      "outputs": [],
      "source": [
        "address_list = pd.read_csv('../Data/addresses_e_not_in_k.csv')\n",
        "\n",
        "list_of_address = address_list['Address'].tolist()"
      ]
    },
    {
      "cell_type": "code",
      "execution_count": null,
      "metadata": {
        "id": "TmS_KxAD_30d",
        "outputId": "e9dc881f-f84b-41d4-9d3e-7870dfa8735c"
      },
      "outputs": [],
      "source": [
        "len(list_of_address)"
      ]
    },
    {
      "cell_type": "code",
      "execution_count": null,
      "metadata": {
        "id": "fNpAN4oa_30d"
      },
      "outputs": [],
      "source": [
        "write_to_file = '../Data/address_data_e.csv'\n"
      ]
    },
    {
      "cell_type": "code",
      "execution_count": null,
      "metadata": {
        "id": "jWVAI-bZ_30d",
        "outputId": "9d205b29-b0d3-4e27-8650-2ff06f86ee8b"
      },
      "outputs": [],
      "source": [
        "base_df = pd.DataFrame()\n",
        "total_transactions = 0\n",
        "for i in range(len(list_of_address)):\n",
        "    a = list_of_address[i]\n",
        "    try:\n",
        "        if i==0:\n",
        "            base_df = get_address_stats_normal_tnx(a)\n",
        "            base_df.to_csv(write_to_file,mode='w',index=False, header=True)\n",
        "            itxns = base_df.loc[0,'total transactions (including tnx to create contract']\n",
        "            total_transactions = itxns\n",
        "            print(\"Address number {}: {} mined! {} retrieved. {} total transactions.\".format(i,a,itxns,total_transactions))\n",
        "        else:\n",
        "            cand_df = get_address_stats_normal_tnx(a)\n",
        "            cand_df.to_csv(write_to_file,mode='a', index=False,header=False)\n",
        "            base_df = pd.concat([base_df, cand_df])\n",
        "            itxns = cand_df.loc[0,'total transactions (including tnx to create contract']\n",
        "            total_transactions = total_transactions + itxns\n",
        "            print(\"Address number {}: {} mined! {} retrieved. {} total transactions.\".format(i,a,itxns,total_transactions))\n",
        "            \n",
        "    except:\n",
        "        cand_df = get_empty_details_for_address(a)\n",
        "        base_df = pd.concat([base_df, cand_df])\n",
        "        cand_df.to_csv(write_to_file,mode='a',index=False,header=False)\n",
        "        print(\"Address number {}: {} mined! 0 txns retrieved. {} total transactions.\".format(i,a,total_transactions))\n",
        "\n",
        "base_df = base_df.reset_index(drop=True)\n"
      ]
    },
    {
      "cell_type": "code",
      "execution_count": null,
      "metadata": {
        "id": "23nzsofv_30e"
      },
      "outputs": [],
      "source": []
    }
  ],
  "metadata": {
    "colab": {
      "provenance": []
    },
    "kernelspec": {
      "display_name": "Python 3.10.6 64-bit",
      "language": "python",
      "name": "python3"
    },
    "language_info": {
      "codemirror_mode": {
        "name": "ipython",
        "version": 3
      },
      "file_extension": ".py",
      "mimetype": "text/x-python",
      "name": "python",
      "nbconvert_exporter": "python",
      "pygments_lexer": "ipython3",
      "version": "3.10.6"
    },
    "orig_nbformat": 4,
    "vscode": {
      "interpreter": {
        "hash": "aee8b7b246df8f9039afb4144a1f6fd8d2ca17a180786b69acc140d282b71a49"
      }
    }
  },
  "nbformat": 4,
  "nbformat_minor": 0
}
